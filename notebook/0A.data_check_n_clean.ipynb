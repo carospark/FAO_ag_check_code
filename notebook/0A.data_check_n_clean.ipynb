{
 "cells": [
  {
   "cell_type": "code",
   "execution_count": null,
   "id": "834414a8",
   "metadata": {},
   "outputs": [],
   "source": [
    "import pandas as pd\n",
    "import os\n",
    "import seaborn as sns\n",
    "import xarray as xr\n",
    "import numpy as np\n",
    "from sklearn.linear_model import LinearRegression\n",
    "import matplotlib.pyplot as plt\n",
    "from datetime import datetime\n",
    "from datetime import date\n",
    "import netCDF4 as nc\n",
    "from scipy import stats"
   ]
  },
  {
   "cell_type": "markdown",
   "id": "094e0dac",
   "metadata": {},
   "source": [
    "# open all the files "
   ]
  },
  {
   "cell_type": "code",
   "execution_count": 3,
   "id": "6b35e4d0",
   "metadata": {},
   "outputs": [
    {
     "data": {
      "text/plain": [
       "[]"
      ]
     },
     "execution_count": 3,
     "metadata": {},
     "output_type": "execute_result"
    }
   ],
   "source": [
    "import glob\n",
    "mylist = [f for f in glob.glob(\"/Volumes/common/data/DataByCountry/*\")]"
   ]
  },
  {
   "cell_type": "code",
   "execution_count": 24,
   "id": "6ce972b4",
   "metadata": {},
   "outputs": [],
   "source": [
    "start = '/Volumes/common/data/DataByCountry/'\n",
    "end_fao = '/fao_data.nc'\n",
    "end_cal = '/crop_calendar_data_sage.nc'\n",
    "end_sif = '/csif_data.nc'\n",
    "end_harvarea = \"/harvest_area_fraction_data_sage_all.nc\""
   ]
  },
  {
   "cell_type": "code",
   "execution_count": 25,
   "id": "8f9eabb9",
   "metadata": {},
   "outputs": [],
   "source": [
    "myends = [\"end_cal\", \"end_sif\", \"end_harvarea\"]      \n",
    "\n",
    "remove=[]\n",
    "\n",
    "for i in mylist: \n",
    "    for end in myends:        \n",
    "        if os.path.isfile(str(i) + eval(end)):\n",
    "            pass\n",
    "        else:         #            print(end, i)        \n",
    "            remove.append(i)\n",
    "            remove = [*set(remove)]"
   ]
  },
  {
   "cell_type": "code",
   "execution_count": 26,
   "id": "1993175a",
   "metadata": {
    "scrolled": true
   },
   "outputs": [
    {
     "name": "stdout",
     "output_type": "stream",
     "text": [
      "safely removed countries w.o fao/sif/mask data\n"
     ]
    }
   ],
   "source": [
    "allcountries = set(mylist).difference(set(remove))\n",
    "\n",
    "print(\"safely removed countries w.o fao/sif/mask data\")\n"
   ]
  },
  {
   "cell_type": "code",
   "execution_count": null,
   "id": "f5af19fa",
   "metadata": {},
   "outputs": [],
   "source": []
  },
  {
   "cell_type": "code",
   "execution_count": null,
   "id": "80d5e9f1",
   "metadata": {},
   "outputs": [],
   "source": []
  }
 ],
 "metadata": {
  "kernelspec": {
   "display_name": "base",
   "language": "python",
   "name": "python3"
  },
  "language_info": {
   "codemirror_mode": {
    "name": "ipython",
    "version": 3
   },
   "file_extension": ".py",
   "mimetype": "text/x-python",
   "name": "python",
   "nbconvert_exporter": "python",
   "pygments_lexer": "ipython3",
   "version": "3.9.7"
  }
 },
 "nbformat": 4,
 "nbformat_minor": 5
}

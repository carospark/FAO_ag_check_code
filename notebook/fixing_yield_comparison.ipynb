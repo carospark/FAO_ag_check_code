{
 "cells": [
  {
   "cell_type": "code",
   "execution_count": 9,
   "id": "9f814b86",
   "metadata": {},
   "outputs": [],
   "source": [
    "import pandas as pd\n",
    "import numpy as np\n",
    "import statsmodels.api as sm\n",
    "import os \n",
    "from pkg import detrend_group\n",
    "os.chdir(\"/Users/caropark/FAO_ag_check_code\")"
   ]
  },
  {
   "cell_type": "markdown",
   "id": "d404c7d4",
   "metadata": {},
   "source": [
    "data originally comes from combined_update_dt.pkl (on local disc)... then modified to .csv.\n",
    "and now fixing again"
   ]
  },
  {
   "cell_type": "markdown",
   "id": "5ac94f1e",
   "metadata": {},
   "source": [
    "redoing the avg_2crops_n_lags(df) function in 0B.csif_proxy_fx_update"
   ]
  },
  {
   "cell_type": "code",
   "execution_count": 15,
   "id": "d5624b5d",
   "metadata": {},
   "outputs": [],
   "source": [
    "df = pd.read_csv(\"./data/yield_comparison.csv\")#.drop({\"yield_dt\", \"yield_lag\", \"yield_lead\", \"whichlag\", \"yield\"}, axis=1)\n",
    "df = df.loc[:, ~df.columns.str.contains(\"_log|_lead|lag\", regex=True)]"
   ]
  },
  {
   "cell_type": "code",
   "execution_count": 16,
   "id": "630366e6",
   "metadata": {},
   "outputs": [],
   "source": [
    "df = detrend_group(df, \"yield_og\", \"yield_log_dt\", log_transform=True)\n",
    "df = detrend_group(df, \"csif_og\", \"csif_log_dt\", log_transform= True)\n",
    "df['yield_lag'] = df.groupby(['cropname', 'country'])['yield_log_dt'].shift(1)\n",
    "df['yield_lead'] = df.groupby(['cropname','country'])['yield_log_dt'].shift(-1)"
   ]
  },
  {
   "cell_type": "code",
   "execution_count": 52,
   "id": "0ed69a64",
   "metadata": {},
   "outputs": [
    {
     "name": "stderr",
     "output_type": "stream",
     "text": [
      "/opt/homebrew/Caskroom/miniforge/base/lib/python3.9/site-packages/numpy/lib/function_base.py:2889: RuntimeWarning: Degrees of freedom <= 0 for slice\n",
      "  c = cov(x, y, rowvar, dtype=dtype)\n",
      "/opt/homebrew/Caskroom/miniforge/base/lib/python3.9/site-packages/numpy/lib/function_base.py:2748: RuntimeWarning: divide by zero encountered in divide\n",
      "  c *= np.true_divide(1, fact)\n",
      "/opt/homebrew/Caskroom/miniforge/base/lib/python3.9/site-packages/numpy/lib/function_base.py:2889: RuntimeWarning: Degrees of freedom <= 0 for slice\n",
      "  c = cov(x, y, rowvar, dtype=dtype)\n",
      "/opt/homebrew/Caskroom/miniforge/base/lib/python3.9/site-packages/numpy/lib/function_base.py:2748: RuntimeWarning: divide by zero encountered in divide\n",
      "  c *= np.true_divide(1, fact)\n"
     ]
    }
   ],
   "source": [
    "corrs = (df.groupby([\"cropname\", \"country\"])\n",
    "      .apply(lambda g: g[[\"yield_log_dt\", \"yield_lag\", \"yield_lead\"]].corrwith(g[\"csif_log_dt\"]) if len(g) >= 2 else None).dropna())\n",
    "corrs = corrs.idxmax(axis=1).to_frame().reset_index().rename({0: 'whichlag'}, axis=1)"
   ]
  },
  {
   "cell_type": "code",
   "execution_count": 55,
   "id": "4da80c97",
   "metadata": {},
   "outputs": [],
   "source": [
    "df = df.merge(corrs)\n",
    "df['name'] = np.where(df.whichlag == \"yield_log_dt\", df.country, df.country + \" (\" + (df.whichlag).str.replace(\"yield_\", \"\") + \")\")"
   ]
  },
  {
   "cell_type": "code",
   "execution_count": 56,
   "id": "f57b1005",
   "metadata": {},
   "outputs": [],
   "source": [
    "df.to_csv(\"./data/yield_comparison.csv\", index=False)"
   ]
  }
 ],
 "metadata": {
  "kernelspec": {
   "display_name": "base",
   "language": "python",
   "name": "python3"
  },
  "language_info": {
   "codemirror_mode": {
    "name": "ipython",
    "version": 3
   },
   "file_extension": ".py",
   "mimetype": "text/x-python",
   "name": "python",
   "nbconvert_exporter": "python",
   "pygments_lexer": "ipython3",
   "version": "3.9.7"
  }
 },
 "nbformat": 4,
 "nbformat_minor": 5
}
